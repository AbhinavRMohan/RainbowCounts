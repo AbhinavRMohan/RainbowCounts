{
 "cells": [
  {
   "cell_type": "code",
   "execution_count": null,
   "metadata": {},
   "outputs": [],
   "source": [
    "import os\n",
    "import numpy as np\n",
    "import cv2\n",
    "import pandas as pd\n",
    "import tkinter as tk\n",
    "from tkinter import messagebox as mb\n",
    "from matplotlib import pyplot as plt\n",
    "import scipy.stats\n",
    "import statsmodels.stats.api as sms\n",
    "import math\n",
    "import sys\n",
    "from PIL import ImageEnhance, Image"
   ]
  },
  {
   "cell_type": "code",
   "execution_count": null,
   "metadata": {},
   "outputs": [],
   "source": [
    "folder = input('Which folder are your images located in? ')\n",
    "os.chdir('C:\\\\Users\\\\abhim\\\\Desktop\\\\'+folder)\n",
    "print('All Set!')"
   ]
  },
  {
   "cell_type": "code",
   "execution_count": null,
   "metadata": {},
   "outputs": [],
   "source": [
    "whichDataset = input(\"Which Dataset do you want to choose a sample image from? \")\n",
    "whichImage = input(\"Which Image do you want to use as the sample image? \")"
   ]
  },
  {
   "cell_type": "code",
   "execution_count": null,
   "metadata": {},
   "outputs": [],
   "source": [
    "global image, Satisfied, alpha_mult, finalAlpha, beta, beta_sub\n",
    "Satisfied = \"Gibberish\"\n",
    "alpha_mult = np.array([1.0])\n",
    "finalAlpha = 1.0\n",
    "beta = 0.0\n",
    "beta_sub = np.array([0.0])\n",
    "\n",
    "redChannel = cv2.imread('r'+whichDataset+'_'+whichImage+'.tif')\n",
    "greenChannel = cv2.imread('g'+whichDataset+'_'+whichImage+'.tif')\n",
    "#cv2.divide(greenChannel, 3.6, greenChannel)\n",
    "\n",
    "plt.rcParams['figure.figsize'] = [12, 8]\n",
    "image = cv2.cvtColor(redChannel+greenChannel, cv2.COLOR_BGR2RGB)\n",
    "plt.imshow(image)\n",
    "plt.show()\n",
    "Satisfied = input(\"Are you satisfied with the contrast of the image? Y/N (case sensitive)): \")\n",
    "\n",
    "while Satisfied == \"N\":\n",
    "    alpha = float(input(\"What would you like to multiply the contrast by? (1.0 - 4.5)): \"))\n",
    "    finalAlpha *= alpha\n",
    "    beta = 0 - finalAlpha*1.5\n",
    "    alpha_mult = np.array([alpha])\n",
    "    beta_sub = np.array([beta])\n",
    "    cv2.multiply(image, alpha_mult, image)\n",
    "    cv2.add(image, beta_sub, image)\n",
    "    image = Image.fromarray(image)\n",
    "    enhancer = ImageEnhance.Sharpness(image)\n",
    "    factor = 3.6\n",
    "    image = enhancer.enhance(factor)\n",
    "    image = np.asarray(image)\n",
    "    cv2.add(image, beta_sub, image)\n",
    "    image = cv2.bilateralFilter(image,9,75,75)\n",
    "    plt.imshow(image)\n",
    "    plt.show()\n",
    "    Satisfied = input(\"Are you satisfied with the contrast of the image? Y/N (caps sensitive)): \")\n",
    "\n",
    "if Satisfied == \"Y\":\n",
    "    print('Great!')\n",
    "    print('Final Multiplier: ', finalAlpha)\n",
    "    print('Final Subtraction: ', beta)\n",
    "    print('Sharpness Factor: ', factor)\n",
    "    alpha_mult = np.array([finalAlpha])\n",
    "    beta_sub = np.array([beta])\n",
    "    \n",
    "else:\n",
    "    sys.exit('Restart Please~!')"
   ]
  },
  {
   "cell_type": "code",
   "execution_count": null,
   "metadata": {},
   "outputs": [],
   "source": [
    "index=[\"color\", \"color_name\", \"hex\", \"R\", \"G\", \"B\"]\n",
    "csv = pd.read_csv('C:\\\\Users\\\\abhim\\\\Downloads\\\\colors.csv', names=index, header=None)\n",
    "img = redChannel+greenChannel\n",
    "cv2.multiply(img, alpha_mult, img)\n",
    "cv2.add(img, beta_sub, img)\n",
    "img = Image.fromarray(img)\n",
    "enhancer = ImageEnhance.Sharpness(img)\n",
    "factor = 3.6\n",
    "img = enhancer.enhance(factor)\n",
    "img = np.asarray(img)\n",
    "cv2.add(image, beta_sub, image)\n",
    "img = cv2.bilateralFilter(img,9,75,75)\n",
    "cv2.namedWindow(\"Color Recognition App\", cv2.WINDOW_NORMAL)        # Create window with freedom of dimensions\n",
    "cv2.resizeWindow(\"Color Recognition App\", 800, 550) "
   ]
  },
  {
   "cell_type": "code",
   "execution_count": null,
   "metadata": {},
   "outputs": [],
   "source": [
    "image2 = cv2.imread('g'+whichDataset+'_'+whichImage+'.tif',0)\n",
    "plt.imshow(image2, cmap = 'jet'), plt.colorbar(fraction=0.05, pad=0.04)\n",
    "plt.show()"
   ]
  },
  {
   "cell_type": "code",
   "execution_count": null,
   "metadata": {},
   "outputs": [],
   "source": [
    "clicked = False\n",
    "r = g = b = xpos = ypos = 0\n",
    "livecellcount = 0\n",
    "earlyapoptoticcount = 0\n",
    "lateapoptoticcount = 0\n",
    "necroticcount = 0"
   ]
  },
  {
   "cell_type": "code",
   "execution_count": null,
   "metadata": {},
   "outputs": [],
   "source": [
    "def recognize_color(R,G,B):\n",
    "    minimum = 10000\n",
    "    for i in range(len(csv)):\n",
    "        d = abs(R- int(csv.loc[i,\"R\"])) + abs(G- int(csv.loc[i,\"G\"]))+ abs(B- int(csv.loc[i,\"B\"]))\n",
    "        if(d<=minimum):\n",
    "            minimum = d\n",
    "            cname = csv.loc[i,\"color_name\"]            \n",
    "    return cname"
   ]
  },
  {
   "cell_type": "code",
   "execution_count": null,
   "metadata": {},
   "outputs": [],
   "source": [
    "def mouse_click(event, x, y, flags, param):\n",
    "    if event == cv2.EVENT_LBUTTONDBLCLK:\n",
    "        global b,g,r,xpos,ypos, clicked\n",
    "        clicked = True\n",
    "        xpos = x\n",
    "        ypos = y\n",
    "        b,g,r = img[y,x]\n",
    "        b = int(b)\n",
    "        g = int(g)\n",
    "        r = int(r)"
   ]
  },
  {
   "cell_type": "code",
   "execution_count": null,
   "metadata": {},
   "outputs": [],
   "source": [
    "global theNamesList\n",
    "theNamesList = [\"Live\", \"Early Apoptotic\", \"Late Apoptotic\", \"Necrotic\"]"
   ]
  },
  {
   "cell_type": "code",
   "execution_count": null,
   "metadata": {},
   "outputs": [],
   "source": [
    "def startcolorchk():\n",
    "    global askarray, livecells, earlyapoptotic, lateapoptotic, necrotic\n",
    "    livecells = False\n",
    "    earlyapoptotic = False\n",
    "    lateapoptotic = False \n",
    "    necrotic = False\n",
    "    askarray = [livecells, earlyapoptotic, lateapoptotic, necrotic]\n",
    "    for listVar in range(len(askarray)):\n",
    "        if mb.askyesno(theNamesList[listVar]+' Cells', 'Are there '+theNamesList[listVar]+' Cells?'):\n",
    "            mb.showinfo('Yes', theNamesList[listVar]+' Cell count will be initiated')\n",
    "            askarray[listVar] = True\n",
    "        else:\n",
    "            mb.showinfo('No', theNamesList[listVar]+' Cell count will NOT be initiated')\n",
    "            askarray[listVar] = False\n",
    "tk.Button(text='Start\\n\\nREAD CAREFULLY:\\n1) Be sure to read each prompt carefully before answering.\\n2) After you are done answering all the prompts, you will have to close this dialog box to proceed and see the image.\\n3) Click cells within a group that have a diverse intensity range to get the best training efficacy for your counts.', command=startcolorchk).pack(fill=tk.X)\n",
    "tk.mainloop()"
   ]
  },
  {
   "cell_type": "code",
   "execution_count": null,
   "metadata": {},
   "outputs": [],
   "source": [
    "cv2.namedWindow('Color Recognition App')"
   ]
  },
  {
   "cell_type": "code",
   "execution_count": null,
   "metadata": {},
   "outputs": [],
   "source": [
    "cv2.setMouseCallback('Color Recognition App', mouse_click)"
   ]
  },
  {
   "cell_type": "code",
   "execution_count": null,
   "metadata": {
    "scrolled": false
   },
   "outputs": [],
   "source": [
    "global livecellarray, earlyapoptoticarray, lateapoptoticarray, necroticarray\n",
    "global theArrayList, theBoolList, theBooleanList, theCellCountList\n",
    "\n",
    "livecellsboolean = askarray[0]\n",
    "earlyapoptoticboolean = askarray[1]\n",
    "lateapoptoticboolean = askarray[2]\n",
    "necroticboolean = askarray[3]\n",
    "\n",
    "livecellarray = np.array([[0,0,0],[0,0,0],[0,0,0],[0,0,0],[0,0,0],[0,0,0],[0,0,0],[0,0,0],[0,0,0],[0,0,0]])\n",
    "earlyapoptoticarray = np.array([[0,0,0],[0,0,0],[0,0,0],[0,0,0],[0,0,0],[0,0,0],[0,0,0],[0,0,0],[0,0,0],[0,0,0]])\n",
    "lateapoptoticarray = np.array([[0,0,0],[0,0,0],[0,0,0],[0,0,0],[0,0,0],[0,0,0],[0,0,0],[0,0,0],[0,0,0],[0,0,0]])\n",
    "necroticarray = np.array([[0,0,0],[0,0,0],[0,0,0],[0,0,0],[0,0,0],[0,0,0],[0,0,0],[0,0,0],[0,0,0],[0,0,0]])\n",
    "\n",
    "theArrayList = [livecellarray, earlyapoptoticarray, lateapoptoticarray, necroticarray]\n",
    "theBoolList = [askarray[0], askarray[1], askarray[2], askarray[3]]\n",
    "theBooleanList = [livecellsboolean, earlyapoptoticboolean, lateapoptoticboolean, necroticboolean]\n",
    "theCellCountList = [livecellcount, earlyapoptoticcount, lateapoptoticcount, necroticcount]\n",
    "\n",
    "###############################################################################\n",
    "\n",
    "for listVar in range(len(theArrayList)):\n",
    "    if(theBooleanList[listVar]):\n",
    "        root = tk.Tk()\n",
    "        root.title(theNamesList[listVar] + \" Cells\")\n",
    "        label = tk.Label(root, text=\"Double Click only the CENTER of NUCLEI of 10 \" +  theNamesList[listVar] + \" Cells\")\n",
    "        label.pack(side=\"top\", fill=\"both\", expand=True, padx=20, pady=20)\n",
    "        button = tk.Button(root, text=\"OK\", command=lambda: root.destroy())\n",
    "        button.pack(side=\"bottom\", fill=\"none\", expand=True)\n",
    "        root.mainloop()\n",
    "        theBooleanList[listVar] = False\n",
    "    \n",
    "    while(theBoolList[listVar] and theCellCountList[listVar] <= 9):  \n",
    "        cv2.imshow(\"Color Recognition App\",img)  \n",
    "        if (clicked):\n",
    "#             #cv2.rectangle(image, startpoint , endpoint, color, thickness)-1 fills entire rectangle \n",
    "#             cv2.rectangle(img,(20,20), (750,60), (b,g,r), -1)\n",
    "#             #Creating text string to display( Color nameand RGB values )\n",
    "#             text = recognize_color(r,g,b) + ' R='+ str(r) +  ' G='+ str(g) +  ' B='+ str(b)\n",
    "            theArrayList[listVar][theCellCountList[listVar]][0] = r\n",
    "            theArrayList[listVar][theCellCountList[listVar]][1] = g\n",
    "            theArrayList[listVar][theCellCountList[listVar]][2] = b\n",
    "            theCellCountList[listVar] += 1\n",
    "\n",
    "#             #cv2.putText(img,text,start,font(0-7),fontScale,color,thickness,lineType )\n",
    "#             cv2.putText(img, text,(50,50),2,0.8,(255,255,255),2,cv2.LINE_AA)\n",
    "#            # For very light colours we will display text in black colour\n",
    "#             if(r+g+b>=600):\n",
    "#                 cv2.putText(img, text,(50,50),2,0.8,(0,0,0),2,cv2.LINE_AA)\n",
    "            \n",
    "            clicked=False\n",
    "        if cv2.waitKey(20) & 0xFF ==27:\n",
    "            break\n",
    "cv2.destroyAllWindows()"
   ]
  },
  {
   "cell_type": "code",
   "execution_count": null,
   "metadata": {},
   "outputs": [],
   "source": [
    "#################################### DATA ##################################################\n",
    "global livecellmean, earlyapoptoticmean, lateapoptoticmean, necroticmean\n",
    "global live95, early95, late95, nec95\n",
    "global theMeanList, the95List, rgbRangeList, colorList\n",
    "\n",
    "livecellmean = earlyapoptoticmean = lateapoptoticmean = necroticmean = live95 = early95 = late95 = nec95 = [0,0,0]\n",
    "theMeanList = [livecellmean, earlyapoptoticmean, lateapoptoticmean, necroticmean]\n",
    "the95List = [live95, early95, late95, nec95]\n",
    "colorList = ['red', 'green', 'blue']\n",
    "\n",
    "for listVar in range(len(theMeanList)):\n",
    "    theMeanList[listVar] = np.around(theArrayList[listVar].mean(axis=0)).astype(int)\n",
    "    the95List[listVar] = np.around(np.array(sms.DescrStatsW(theArrayList[listVar]).tconfint_mean())).astype(int)\n",
    "    the95List[listVar][the95List[listVar] < 0] = 0\n",
    "\n",
    "liverange_red = liverange_green = liverange_blue = earlyrange_red = earlyrange_green = earlyrange_blue = laterange_red = laterange_green = laterange_blue = necrange_red = necrange_green = necrange_blue = [0,0]\n",
    "rgbRangeList = [[liverange_red, liverange_green, liverange_blue], [earlyrange_red, earlyrange_green, earlyrange_blue], [laterange_red, laterange_green, laterange_blue], [necrange_red, necrange_green, necrange_blue]]\n",
    "fig, ax = plt.subplots(4, 3)\n",
    "xlim = [1,2,3,4,5,6,7,8,9,10]\n",
    "\n",
    "for listVar in range(len(rgbRangeList)):\n",
    "    for nestListVar in range(len(rgbRangeList[0])):\n",
    "        rgbRangeList[listVar][nestListVar] = [np.amin(theArrayList[listVar][:,nestListVar]), np.amax(theArrayList[listVar][:,nestListVar])]\n",
    "        ax[listVar, nestListVar].bar(xlim, theArrayList[listVar][:,nestListVar], color = colorList[nestListVar], linewidth=1.2, width = 0.5)\n",
    "        ax[listVar, nestListVar].set_xlim([0,11])\n",
    "        ax[listVar, nestListVar].set_ylim([0,255])\n",
    "\n",
    "for listVar in range(len(rgbRangeList)):\n",
    "    ax[listVar,1].title.set_text(theNamesList[listVar] + \" Cells\")\n",
    "    ax[listVar,0].set_ylabel('R/G/B Values')\n",
    "\n",
    "fig.tight_layout()"
   ]
  },
  {
   "cell_type": "code",
   "execution_count": null,
   "metadata": {
    "scrolled": true
   },
   "outputs": [],
   "source": [
    "###################################### STATS ##################################\n",
    "# stats f_oneway functions takes the groups as input and returns F and P-value\n",
    "fvalue, pvalue = scipy.stats.f_oneway(theArrayList[0],\n",
    "                                theArrayList[1], \n",
    "                                theArrayList[2],\n",
    "                                theArrayList[3])\n",
    "print(f\"Results of ANOVA test:\\n The F-statistic is: {fvalue}\\n The p-value is: {pvalue}\")"
   ]
  },
  {
   "cell_type": "code",
   "execution_count": null,
   "metadata": {
    "scrolled": false
   },
   "outputs": [],
   "source": [
    "t2, p2 = scipy.stats.ttest_ind(theArrayList[2],theArrayList[3])\n",
    "print(f\"Results of t-test:\\n The t-statistic is: {t2}\\n The p-value is: {p2}\")\n",
    "if (p2[0] > 0.05 and p2[1] > 0.05) and (theMeanList[3][1] > 15*finalAlpha or theMeanList[3][1]/theMeanList[0][1] > 0.15*finalAlpha):\n",
    "    print('\\nNOTE: There are NO necrotic cells! All presumed necrotic cells are late apoptotic! Necrotic values should be set to 0\\'s.\\nMerge the RGB ranges of Late Apoptotic and Necrotic.\\nIgnore the Cell parameters for necrotic cells.')\n",
    "if (p2[0] > 0.05 and p2[1] > 0.05) and (theMeanList[3][1] <= 15*finalAlpha or theMeanList[3][1]/theMeanList[0][1] <= 0.15*finalAlpha):\n",
    "    print('\\nNOTE: There are NO late apoptotic cells! All presumed apoptotic cells are necrotic! Late apoptotic values should be set to 0\\'s.\\nMerge the RGB ranges of Late Apoptotic and Necrotic.\\nIgnore the Cell parameters for late apoptotic cells.')"
   ]
  },
  {
   "cell_type": "code",
   "execution_count": null,
   "metadata": {},
   "outputs": [],
   "source": [
    "original = image.copy()"
   ]
  },
  {
   "cell_type": "code",
   "execution_count": null,
   "metadata": {
    "scrolled": true
   },
   "outputs": [],
   "source": [
    "print(\"RGB Mean (given as [R  G  B])\\n\")\n",
    "\n",
    "global colorArray, lowerColorArray, upperColorArray, meanSizeList, minSizeList, conSizeList\n",
    "colorArray = np.array([[[0,0,0],[0,0,0]],[[0,0,0],[0,0,0]],[[0,0,0],[0,0,0]],[[0,0,0],[0,0,0]]])\n",
    "lowerColorArray = np.array([[0,0,0],[0,0,0],[0,0,0],[0,0,0]])\n",
    "upperColorArray = np.array([[0,0,0],[0,0,0],[0,0,0],[0,0,0]])\n",
    "minCellMult = [1,1,1,1]\n",
    "minCellReq = [0.,0.,0.,0.]\n",
    "conCellMult = [1,1,1,1]\n",
    "meanCellMult = [1.,1.,1.,1.]\n",
    "meanSizeList = [0,0,0,0]\n",
    "minSizeList = [0,0,0,0]\n",
    "conSizeList = [0,0,0,0]\n",
    "color_outline = [[0,255,0],[255,255,0],[205,125,0],[255,0,0]]\n",
    "\n",
    "\n",
    "for listVar in range(len(colorArray)):\n",
    "    for nestListVar in range(len(colorArray[0,0])):\n",
    "        for doublenestListVar in range(len(colorArray[0])):\n",
    "            colorArray[listVar, doublenestListVar, nestListVar] = np.array([rgbRangeList[listVar][nestListVar][doublenestListVar]])\n",
    "\n",
    "for listVar in range(len(colorArray)):\n",
    "    lowerColorArray[listVar] = colorArray[listVar,0]\n",
    "    upperColorArray[listVar] = colorArray[listVar,1]\n",
    "    mask = cv2.inRange(original, lowerColorArray[listVar], upperColorArray[listVar]) #  cv2.Canny(image_max,95,95) #\n",
    "    kernel = cv2.getStructuringElement(cv2.MORPH_ELLIPSE, (3,3))\n",
    "    opening = cv2.morphologyEx(mask, cv2.MORPH_OPEN, kernel, iterations=0) \n",
    "    close = cv2.morphologyEx(opening, cv2.MORPH_CLOSE, kernel, iterations=2)\n",
    "    cnts = cv2.findContours(close, cv2.RETR_EXTERNAL, cv2.CHAIN_APPROX_SIMPLE)\n",
    "    cnts = cnts[0] if len(cnts) == 2 else cnts[1]\n",
    "    for c in cnts:\n",
    "        area = cv2.contourArea(c)\n",
    "        cv2.drawContours(original, [c], -1, color_outline[listVar], 6) #36,255,12\n",
    "            \n",
    "lowerColorArray2 = np.array([[0,250,0],[250,250,0],[200,120,0],[250,0,0]])\n",
    "upperColorArray2 = np.array([[1,255,1],[255,255,1],[205,125,1],[255,1,0]])\n",
    "        \n",
    "for listVar in range(len(colorArray)):\n",
    "    mask = cv2.inRange(original, lowerColorArray2[listVar], upperColorArray2[listVar]) #  cv2.Canny(image_max,95,95) #\n",
    "    kernel = cv2.getStructuringElement(cv2.MORPH_ELLIPSE, (5,5))\n",
    "    opening = cv2.morphologyEx(mask, cv2.MORPH_OPEN, kernel, iterations=0) \n",
    "    close = cv2.morphologyEx(opening, cv2.MORPH_CLOSE, kernel, iterations=2)\n",
    "    cnts = cv2.findContours(close, cv2.RETR_EXTERNAL, cv2.CHAIN_APPROX_SIMPLE)\n",
    "    cnts = cnts[0] if len(cnts) == 2 else cnts[1]\n",
    "    all_areas = []\n",
    "    for c in cnts:\n",
    "        area = cv2.contourArea(c)\n",
    "        all_areas.append(area)\n",
    "\n",
    "    if upperColorArray[listVar][1] == 0:\n",
    "        print('Nothing to show... carry on!\\n')\n",
    "    else:\n",
    "        meanSizeList[listVar] = np.around(np.mean(all_areas)*meanCellMult[listVar])\n",
    "        minSizeList[listVar] = np.around(min(all_areas)*minCellMult[listVar]+minCellReq[listVar])\n",
    "        conSizeList[listVar] = np.around(np.mean(all_areas)*conCellMult[listVar])\n",
    "        print(theNamesList[listVar],\"Cells MEAN: \", theMeanList[listVar], \"\\nR: \", \"RANGE: \", rgbRangeList[listVar][0], \", 95% CI: \", the95List[listVar][:,0], \"\\nG: \", \"RANGE: \", rgbRangeList[listVar][1], \", 95% CI: \", the95List[listVar][:,1], \"\\nB: \", \"RANGE: \", rgbRangeList[listVar][2], \", 95% CI: \", the95List[listVar][:,2], \"\\n\")\n",
    "        print(theNamesList[listVar],\"Cell Parameters: \\nAverage Cell Area: \", meanSizeList[listVar], \"\\nMinimum Cell Area: \", minSizeList[listVar], \"\\nConnected Cell Area: \", conSizeList[listVar], \"\\n---------------------------\\n\")"
   ]
  },
  {
   "cell_type": "raw",
   "metadata": {},
   "source": [
    "alpha_mult = np.array([2.5])\n",
    "beta_sub = np.array([-3.75])\n",
    "meanSizeList = [120,50,50,50]\n",
    "minSizeList = [45,5,5,5]\n",
    "conSizeList = [30000,300,300,300]\n",
    "lowerColorArray = np.array([[4,63,0], [28,49,0], [51,23,0], [39,0,0]]) #4, 63, 0 green low  28, 49, 0 early low\n",
    "upperColorArray = np.array([[27,209,25], [50,114,15], [87,47,17], [255,25,1]])\n",
    "avg_intens = original.mean(axis=0).mean(axis=0)\n",
    "mean_inten = 0.299*avg_intens[0] + 0.587*avg_intens[1] + 0.114*avg_intens[2]"
   ]
  },
  {
   "cell_type": "code",
   "execution_count": null,
   "metadata": {
    "scrolled": true
   },
   "outputs": [],
   "source": [
    "%store lowerColorArray\n",
    "%store upperColorArray\n",
    "%store meanSizeList\n",
    "%store minSizeList\n",
    "%store conSizeList\n",
    "%store alpha_mult\n",
    "%store finalAlpha\n",
    "%store beta_sub\n",
    "%store mean_inten"
   ]
  },
  {
   "cell_type": "code",
   "execution_count": null,
   "metadata": {},
   "outputs": [],
   "source": [
    "import datetime\n",
    "with open(\"C:\\\\Users\\\\abhim\\\\Desktop\\\\RainbowCountsVars.txt\", mode='a') as file:\n",
    "    file.write('-------------------------------\\n')\n",
    "    file.write('%s\\n' % (datetime.datetime.now()))\n",
    "    file.write('Lower Color Array: %s\\n' % (lowerColorArray))\n",
    "    file.write('Upper Color Array: %s\\n' % (upperColorArray))\n",
    "    file.write('Mean Size List: %s\\n' % (meanSizeList))\n",
    "    file.write('Min Size List: %s\\n' % (minSizeList))\n",
    "    file.write('Connected Size List: %s\\n' % (conSizeList))\n",
    "    file.write('alpha_mult: %s\\n' % (alpha_mult))\n",
    "    file.write('final Alpha: %s\\n' % (finalAlpha))\n",
    "    file.write('beta_sub: %s\\n' % (beta_sub))\n",
    "    file.write('Mean Intensity: %s\\n\\n' % (mean_inten))"
   ]
  },
  {
   "cell_type": "code",
   "execution_count": null,
   "metadata": {
    "scrolled": true
   },
   "outputs": [],
   "source": [
    "%tb"
   ]
  }
 ],
 "metadata": {
  "kernelspec": {
   "display_name": "Python 3",
   "language": "python",
   "name": "python3"
  },
  "language_info": {
   "codemirror_mode": {
    "name": "ipython",
    "version": 3
   },
   "file_extension": ".py",
   "mimetype": "text/x-python",
   "name": "python",
   "nbconvert_exporter": "python",
   "pygments_lexer": "ipython3",
   "version": "3.8.5"
  }
 },
 "nbformat": 4,
 "nbformat_minor": 4
}
